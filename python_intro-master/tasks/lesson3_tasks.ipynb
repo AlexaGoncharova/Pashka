{
 "cells": [
  {
   "cell_type": "markdown",
   "metadata": {
    "collapsed": true
   },
   "source": [
    "<center>\n",
    "<img src=\"../img/python_theme.png\">\n",
    "# MLClass. \"Прикладной анализ данных\"\n",
    "# Модуль \"Инструментарий Data Science\"\n",
    "<img src=\"../img/mlclass_logo.jpg\" height=\"240\" width=\"240\">\n",
    "\n",
    "## Автор материала: Юрий Кашницкий, ФКН НИУ ВШЭ\n",
    "</center>\n",
    "Материал распространяется на условиях лицензии <a href=\"https://opensource.org/licenses/MS-RL\">Ms-RL</a>. Можно использовать в любых целях, кроме коммерческих, но с обязательным упоминанием автора материала."
   ]
  },
  {
   "cell_type": "markdown",
   "metadata": {},
   "source": [
    "# Задачи к уроку 3\n",
    "http://informatics.mccme.ru/mod/statements/view.php?id=16206#1"
   ]
  },
  {
   "cell_type": "code",
   "execution_count": 1,
   "metadata": {},
   "outputs": [],
   "source": [
    "# Python 2 and 3 compatibility\n",
    "# pip install future\n",
    "from __future__ import (absolute_import, division,\n",
    "                        print_function, unicode_literals)\n",
    "from builtins import *"
   ]
  },
  {
   "cell_type": "markdown",
   "metadata": {},
   "source": [
    "## Задача A\n",
    "Даны два целых числа A и B (при этом A $\\leq$ B). Выведите все числа от A до B включительно."
   ]
  },
  {
   "cell_type": "code",
   "execution_count": 21,
   "metadata": {},
   "outputs": [
    {
     "name": "stdout",
     "output_type": "stream",
     "text": [
      "7,10\n",
      "[7, 8, 9, 10]\n"
     ]
    }
   ],
   "source": [
    "#lst = list(range(int(input()),int(input())))\n",
    "\n",
    "a,b = [int(i) for i in input().split(',')]\n",
    "lst = []\n",
    "lst = list(range(a,b+1)) if a <= b else lst\n",
    "print(lst)"
   ]
  },
  {
   "cell_type": "markdown",
   "metadata": {},
   "source": [
    "## Задача B\n",
    "По данному натуральном n вычислите сумму $1^2+2^2+3^2+ \\ldots +n^2$."
   ]
  },
  {
   "cell_type": "code",
   "execution_count": 45,
   "metadata": {},
   "outputs": [
    {
     "name": "stdout",
     "output_type": "stream",
     "text": [
      "3\n",
      "n = 3 Sum = 14\n"
     ]
    }
   ],
   "source": [
    "## Ваш код здесь\n",
    "\n",
    "lst = list(range(1, int(input())+1))\n",
    "sm = 0\n",
    "\n",
    "for i in lst:\n",
    "    sm += i ** 2\n",
    "    \n",
    "print(\"n = \" + str(len(lst)) + \" Sum = \" + str(sm))    \n"
   ]
  },
  {
   "cell_type": "markdown",
   "metadata": {},
   "source": [
    "## Задача C\n",
    "По данному целому неотрицательному n вычислите значение n!."
   ]
  },
  {
   "cell_type": "code",
   "execution_count": 56,
   "metadata": {},
   "outputs": [
    {
     "name": "stdout",
     "output_type": "stream",
     "text": [
      "4\n",
      "Result: 24\n"
     ]
    }
   ],
   "source": [
    "## Ваш код здесь\n",
    "\n",
    "n = list(range(1,int(input())+1))\n",
    "res = 1\n",
    "\n",
    "for i in n:\n",
    "    res *= i\n",
    "    \n",
    "print('Result: ' + str(res))    "
   ]
  },
  {
   "cell_type": "markdown",
   "metadata": {},
   "source": [
    "## Задача D\n",
    "По данным целым неотрицательным n и k вычислите значение числа сочетаний из n элементов по k, то есть $\\frac{n!}{k!(n-k)!}$."
   ]
  },
  {
   "cell_type": "code",
   "execution_count": 99,
   "metadata": {},
   "outputs": [
    {
     "name": "stdout",
     "output_type": "stream",
     "text": [
      "4,2\n",
      "Result: 6.0\n"
     ]
    }
   ],
   "source": [
    "## Ваш код здесь\n",
    "\n",
    "# n,k = [int(i) for i in input().split(',')]\n",
    "# fct_n, fct_k, fct_dif = 1,1,1\n",
    "\n",
    "# for i in range(1,n+1):\n",
    "#     fct_n *= i\n",
    "# print(fct_n)    \n",
    "    \n",
    "# for i in range(1,k+1):\n",
    "#     fct_k *= i    \n",
    "# print(fct_k)\n",
    "    \n",
    "# for i in range(1,(n - k)+1):\n",
    "#     fct_dif *= i\n",
    "# print(fct_dif)    \n",
    "\n",
    "# res = fct_n / (fct_k * fct_dif)\n",
    "    \n",
    "# print('Result: ' + str(res))\n",
    "\n",
    "\n",
    "## Ваш код здесь\n",
    "def fct(n):\n",
    "    fct = 1\n",
    "    for i in range(1,n+1):\n",
    "        fct *= i\n",
    "    return fct\n",
    "\n",
    "#print(fct(int(input()),1))\n",
    "n,k = [int(i) for i in input().split(',')]\n",
    "res = fct(n) / (fct(k) * fct(n-k))\n",
    "    \n",
    "print('Result: ' + str(res))\n"
   ]
  },
  {
   "cell_type": "markdown",
   "metadata": {},
   "source": [
    "## Задача E\n",
    "Напишите программу, которая по данному числу n от 1 до 9 выводит на экран n пингвинов. Изображение одного пингвина имеет размер 5×9 символов, между двумя соседними пингвинами также имеется пустой (из пробелов) столбец. Разрешается вывести пустой столбец после последнего пингвина. Для упрощения рисования скопируйте пингвина из примера в среду разработки.\n",
    "\n"
   ]
  },
  {
   "cell_type": "code",
   "execution_count": 111,
   "metadata": {},
   "outputs": [],
   "source": [
    "penguine = [\"   _~_    \",\n",
    "            \"  (o o)   \",\n",
    "            \" /  V  \\  \",\n",
    "            \"/(  _  )\\ \",\n",
    "            \"  ^^ ^^   \"]"
   ]
  },
  {
   "cell_type": "code",
   "execution_count": 119,
   "metadata": {},
   "outputs": [
    {
     "name": "stdout",
     "output_type": "stream",
     "text": [
      "3\n",
      "   _~_       _~_       _~_    \n",
      "  (o o)     (o o)     (o o)   \n",
      " /  V  \\   /  V  \\   /  V  \\  \n",
      "/(  _  )\\ /(  _  )\\ /(  _  )\\ \n",
      "  ^^ ^^     ^^ ^^     ^^ ^^   \n"
     ]
    }
   ],
   "source": [
    "# for i in range(int(input())):\n",
    "#     for st in penguine:\n",
    "#         print()\n",
    "        \n",
    "a = int(input())\n",
    "\n",
    "for st in penguine:\n",
    "    res = ''\n",
    "    for i in range(a):\n",
    "        res += st + ''\n",
    "    print(res)\n",
    "        \n"
   ]
  },
  {
   "cell_type": "markdown",
   "metadata": {
    "collapsed": true
   },
   "source": [
    "## Задача F\n",
    "Шоколадка имеет вид прямоугольника, разделенного на n×m долек. Шоколадку можно один раз разломить по прямой на две части. Определите, можно ли таким образом отломить от шоколадки ровно k долек."
   ]
  },
  {
   "cell_type": "code",
   "execution_count": 121,
   "metadata": {},
   "outputs": [
    {
     "name": "stdout",
     "output_type": "stream",
     "text": [
      "4,5,6\n"
     ]
    },
    {
     "data": {
      "text/plain": [
       "'NO'"
      ]
     },
     "execution_count": 121,
     "metadata": {},
     "output_type": "execute_result"
    }
   ],
   "source": [
    "## Ваш код здесь\n",
    "\n",
    "n,m,k = [int(i) for i in input().split(',')]\n",
    "\n",
    "\"YES\" if k % n == 0 or k % m == 0 else \"NO\"\n",
    "\n"
   ]
  },
  {
   "cell_type": "markdown",
   "metadata": {},
   "source": [
    "## Задача G\n",
    "Дано линейное уравнение $ax + b = 0$. Решите уравнение, напечатайте ответ. Если ответов бесконечно много, выведите \"INF\", если их нет - \"NO\"."
   ]
  },
  {
   "cell_type": "code",
   "execution_count": 126,
   "metadata": {},
   "outputs": [
    {
     "name": "stdout",
     "output_type": "stream",
     "text": [
      "0,0\n",
      "INF\n"
     ]
    }
   ],
   "source": [
    "## Ваш код здесь\n",
    "\n",
    "a,b = [int(i) for i in input().split(',')]\n",
    "\n",
    "if a == 0 and b == 0:\n",
    "    print('INF')    \n",
    "elif a == 0 and b != 0:\n",
    "    print('NO')\n",
    "else:\n",
    "    print(-b/a)"
   ]
  },
  {
   "cell_type": "markdown",
   "metadata": {},
   "source": [
    "## Задача H\n",
    "Для данного числа n < 100 закончите фразу “На лугу пасется...” одним из возможных продолжений: “n коров”, “n корова”, “n коровы”, правильно склоняя слово “корова”."
   ]
  },
  {
   "cell_type": "code",
   "execution_count": 140,
   "metadata": {},
   "outputs": [
    {
     "name": "stdout",
     "output_type": "stream",
     "text": [
      "3\n",
      "На лугу пасется 3 коровы\n"
     ]
    }
   ],
   "source": [
    "## Ваш код здесь\n",
    "\n",
    "n = int(input())\n",
    "\n",
    "if n >= 11 and n <= 20:\n",
    "    symbol = ''\n",
    "else:\n",
    "    if n % 10 == 1:\n",
    "        symbol = 'а'\n",
    "#    elif n % 10 == 2 or n % 10 == 3 or n % 10 == 4:\n",
    "    elif n % 10 in {2,3,4}:\n",
    "        symbol = 'ы'\n",
    "    else:\n",
    "        symbol = ''\n",
    "        \n",
    "print('На лугу пасется %d коров' % n + symbol)        \n",
    "        "
   ]
  },
  {
   "cell_type": "markdown",
   "metadata": {},
   "source": [
    "# Задача I. Диофантово уравнение"
   ]
  },
  {
   "cell_type": "markdown",
   "metadata": {},
   "source": [
    "Даны числа a, b, c, d. Выведите в порядке возрастания все целые числа от 0 до 1000, которые являются корнями уравнения $ax^3+bx^2+cx+d=0$."
   ]
  },
  {
   "cell_type": "code",
   "execution_count": 10,
   "metadata": {},
   "outputs": [],
   "source": [
    "## Ваш код здесь\n",
    "\n"
   ]
  },
  {
   "cell_type": "markdown",
   "metadata": {},
   "source": [
    "## Задача J\n",
    "Квадрат трехзначного числа оканчивается тремя цифрами, равными этому числу. Найдите и выведите все такие числа."
   ]
  },
  {
   "cell_type": "code",
   "execution_count": 149,
   "metadata": {},
   "outputs": [
    {
     "name": "stdout",
     "output_type": "stream",
     "text": [
      "376 141376\n",
      "625 390625\n"
     ]
    }
   ],
   "source": [
    "## Ваш код здесь\n",
    "\n",
    "#print(a**2, a**2 % 1000, a == a**2%1000)\n",
    "\n",
    "for i in range(100,1000):\n",
    "    if i == i**2 % 1000:\n",
    "        print(i,i**2)\n"
   ]
  },
  {
   "cell_type": "markdown",
   "metadata": {},
   "source": [
    "## Задача K\n",
    "По данному натуральному $n \\leq 9$ выведите лесенку из n ступенек, i-я ступенька состоит из чисел от 1 до i без пробелов."
   ]
  },
  {
   "cell_type": "code",
   "execution_count": 154,
   "metadata": {},
   "outputs": [
    {
     "name": "stdout",
     "output_type": "stream",
     "text": [
      "5\n",
      "1\n",
      "12\n",
      "123\n",
      "1234\n",
      "12345\n"
     ]
    }
   ],
   "source": [
    "## Ваш код здесь\n",
    "\n",
    "n = int(input())\n",
    "\n",
    "for i in range(n):\n",
    "    res = ''\n",
    "    for j in range(i+1):\n",
    "        res += str(j+1)\n",
    "    print(res)\n",
    "\n"
   ]
  },
  {
   "cell_type": "markdown",
   "metadata": {},
   "source": [
    "## Задача L\n",
    "Дано три числа. Упорядочите их в порядке неубывания. Программа должна считывать три числа a, b, c, затем программа должна менять их значения так, чтобы стали выполнены условия $a \\leq b \\leq c$, затем программа выводит тройку a, b, c."
   ]
  },
  {
   "cell_type": "code",
   "execution_count": 2,
   "metadata": {},
   "outputs": [
    {
     "name": "stdout",
     "output_type": "stream",
     "text": [
      "1 4 2 6 2 64 34\n",
      "[64, 34, 6, 4, 2, 2, 1]\n"
     ]
    }
   ],
   "source": [
    "## Ваш код здесь\n",
    "\n",
    "a = [int(i) for i in input().split(' ')]\n",
    "\n",
    "a.sort(reverse=True)\n",
    "\n",
    "print(a)"
   ]
  },
  {
   "cell_type": "markdown",
   "metadata": {},
   "source": [
    "## Задача M\n",
    "Давным-давно билет на одну поездку в метро стоил 15 рубля, билет на 10 поездок стоил 125 рублей, билет на 60 поездок стоил 440 рублей. Пассажир планирует совершить n поездок. Определите, сколько билетов каждого вида он должен приобрести, чтобы суммарное количество оплаченных поездок было не меньше n, а общая стоимость приобретенных билетов — минимальна."
   ]
  },
  {
   "cell_type": "code",
   "execution_count": 14,
   "metadata": {},
   "outputs": [],
   "source": [
    "## Ваш код здесь"
   ]
  },
  {
   "cell_type": "markdown",
   "metadata": {},
   "source": [
    "Попробуйте решить как задачу линейного программирования с помощью SciPy"
   ]
  },
  {
   "cell_type": "code",
   "execution_count": 15,
   "metadata": {},
   "outputs": [],
   "source": [
    "## Ваш код здесь"
   ]
  },
  {
   "cell_type": "markdown",
   "metadata": {},
   "source": [
    "## Задача N. Сумма факториалов\n",
    "По данному натуральном n вычислите сумму 1! + 2! + 3! + ... +n!. В решении этой задачи можно использовать только один цикл."
   ]
  },
  {
   "cell_type": "code",
   "execution_count": 16,
   "metadata": {},
   "outputs": [],
   "source": [
    "## Ваш код здесь\n"
   ]
  }
 ],
 "metadata": {
  "kernelspec": {
   "display_name": "Python 3",
   "language": "python",
   "name": "python3"
  },
  "language_info": {
   "codemirror_mode": {
    "name": "ipython",
    "version": 3
   },
   "file_extension": ".py",
   "mimetype": "text/x-python",
   "name": "python",
   "nbconvert_exporter": "python",
   "pygments_lexer": "ipython3",
   "version": "3.7.1"
  },
  "name": "seminar1_python_intro_tools.ipynb"
 },
 "nbformat": 4,
 "nbformat_minor": 1
}
